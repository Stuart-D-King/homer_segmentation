{
 "cells": [
  {
   "cell_type": "markdown",
   "metadata": {},
   "source": [
    "### Exploratory Data Analysis of Homer Segementation Data"
   ]
  },
  {
   "cell_type": "code",
   "execution_count": 1,
   "metadata": {
    "collapsed": false
   },
   "outputs": [],
   "source": [
    "import numpy as np\n",
    "import pandas as pd\n",
    "import matplotlib.pyplot as plt\n",
    "import matplotlib.cm as cm\n",
    "# from kmodes import kmodes, kprototypes\n",
    "import scipy.stats as scs\n",
    "import seaborn as sns\n",
    "from homer_clean_data import remove_outliers\n",
    "sns.set(style=\"whitegrid\", color_codes=True)\n",
    "%matplotlib inline\n",
    "\n",
    "# df_users = pd.read_pickle('data/df_users.pkl')\n",
    "df = pd.read_pickle('data/df.pkl')"
   ]
  },
  {
   "cell_type": "code",
   "execution_count": 2,
   "metadata": {
    "collapsed": false
   },
   "outputs": [
    {
     "data": {
      "text/plain": [
       "(794253, 16)"
      ]
     },
     "execution_count": 2,
     "metadata": {},
     "output_type": "execute_result"
    }
   ],
   "source": [
    "df.shape"
   ]
  },
  {
   "cell_type": "code",
   "execution_count": 4,
   "metadata": {
    "collapsed": false
   },
   "outputs": [],
   "source": [
    "# df_users.shape"
   ]
  },
  {
   "cell_type": "code",
   "execution_count": null,
   "metadata": {
    "collapsed": false
   },
   "outputs": [],
   "source": [
    "# df_users['NumSims'].describe()"
   ]
  },
  {
   "cell_type": "code",
   "execution_count": null,
   "metadata": {
    "collapsed": false
   },
   "outputs": [],
   "source": [
    "# df_users.info()"
   ]
  },
  {
   "cell_type": "code",
   "execution_count": null,
   "metadata": {
    "collapsed": false,
    "scrolled": true
   },
   "outputs": [],
   "source": [
    "# df_users.UserRole.value_counts(dropna=False)\n",
    "grps = df_users.UserRole.value_counts(dropna=False)\n",
    "pct = [x / float(sum(grps)) for x in grps]\n",
    "\n",
    "s1 = pd.Series(grps.values, index=grps.index, name='count')\n",
    "s2 = pd.Series(pct, index=grps.index, name='%total')\n",
    "s2 = s2.apply(lambda x: round(x*100, 2))\n",
    "df_grp = pd.concat([s1, s2], axis=1)\n",
    "df_grp"
   ]
  },
  {
   "cell_type": "code",
   "execution_count": null,
   "metadata": {
    "collapsed": false
   },
   "outputs": [],
   "source": [
    "# df_users.OrganizationType.value_counts(dropna=False)\n",
    "grps = df_users.OrganizationType.value_counts(dropna=False)\n",
    "pct = [x / float(sum(grps)) for x in grps]\n",
    "\n",
    "s1 = pd.Series(grps.values, index=grps.index, name='count')\n",
    "s2 = pd.Series(pct, index=grps.index, name='%total')\n",
    "s2 = s2.apply(lambda x: round(x*100, 2))\n",
    "df_grp = pd.concat([s1, s2], axis=1)\n",
    "df_grp"
   ]
  },
  {
   "cell_type": "code",
   "execution_count": null,
   "metadata": {
    "collapsed": false
   },
   "outputs": [],
   "source": [
    "# df_users.describe()"
   ]
  },
  {
   "cell_type": "code",
   "execution_count": null,
   "metadata": {
    "collapsed": false
   },
   "outputs": [],
   "source": [
    "sims = df_users['NumSims'].values\n",
    "mu = sims.mean()\n",
    "std = sims.std()\n",
    "sims = [s for s in sims if s <= mu + (std*3) and s >= mu - (std*3)]\n",
    "\n",
    "fig = plt.figure(figsize=(8,6))\n",
    "ax = fig.add_subplot(111)\n",
    "\n",
    "ax.hist(sims, bins=50)\n",
    "plt.show()"
   ]
  },
  {
   "cell_type": "markdown",
   "metadata": {},
   "source": [
    "### EDA with clustered data (by user and simulation)"
   ]
  },
  {
   "cell_type": "code",
   "execution_count": 5,
   "metadata": {
    "collapsed": false
   },
   "outputs": [],
   "source": [
    "# df_users_clustered = pd.read_pickle('data/df_users_clustered.pkl')\n",
    "df_clustered = pd.read_pickle('data/df_clustered.pkl')"
   ]
  },
  {
   "cell_type": "code",
   "execution_count": null,
   "metadata": {
    "collapsed": false
   },
   "outputs": [],
   "source": [
    "# df_users_clustered.shape"
   ]
  },
  {
   "cell_type": "code",
   "execution_count": 6,
   "metadata": {
    "collapsed": false
   },
   "outputs": [
    {
     "data": {
      "text/plain": [
       "(794253, 17)"
      ]
     },
     "execution_count": 6,
     "metadata": {},
     "output_type": "execute_result"
    }
   ],
   "source": [
    "df_clustered.shape"
   ]
  },
  {
   "cell_type": "code",
   "execution_count": null,
   "metadata": {
    "collapsed": false
   },
   "outputs": [],
   "source": [
    "# df_users_clustered.columns"
   ]
  },
  {
   "cell_type": "code",
   "execution_count": null,
   "metadata": {
    "collapsed": true
   },
   "outputs": [],
   "source": [
    "bool_cols = ('ImportedWind', 'ImportedSolar', 'Sample')\n",
    "\n",
    "for col in bool_cols:\n",
    "    df_users_clustered[col] = df_users_clustered[col].astype(bool)\n",
    "    df_clustered[col] = df_clustered[col].astype(bool)"
   ]
  },
  {
   "cell_type": "code",
   "execution_count": 7,
   "metadata": {
    "collapsed": false
   },
   "outputs": [
    {
     "name": "stdout",
     "output_type": "stream",
     "text": [
      "<class 'pandas.core.frame.DataFrame'>\n",
      "RangeIndex: 794253 entries, 0 to 794252\n",
      "Data columns (total 17 columns):\n",
      "UserRole            794253 non-null object\n",
      "OrganizationType    794253 non-null object\n",
      "Latitude            794253 non-null float64\n",
      "Longitude           794253 non-null float64\n",
      "User                794253 non-null object\n",
      "Created             794253 non-null datetime64[ns]\n",
      "Sample              794253 non-null int64\n",
      "ImportedWind        794253 non-null int64\n",
      "ImportedSolar       794253 non-null int64\n",
      "MultiGenSearch      794253 non-null object\n",
      "MultiWindSearch     794253 non-null object\n",
      "MultiBatSearch      794253 non-null object\n",
      "MultiPvSearch       794253 non-null object\n",
      "MultiConSearch      794253 non-null object\n",
      "DefaultGenerator    794253 non-null object\n",
      "Country             794253 non-null object\n",
      "Cluster             794253 non-null int64\n",
      "dtypes: datetime64[ns](1), float64(2), int64(4), object(10)\n",
      "memory usage: 103.0+ MB\n"
     ]
    }
   ],
   "source": [
    "df_clustered.info()"
   ]
  },
  {
   "cell_type": "code",
   "execution_count": 8,
   "metadata": {
    "collapsed": false
   },
   "outputs": [],
   "source": [
    "# C1_u = df_users_clustered[df_users_clustered['Cluster'] == 1]\n",
    "# C2_u = df_users_clustered[df_users_clustered['Cluster'] == 2]\n",
    "# C3_u = df_users_clustered[df_users_clustered['Cluster'] == 3]\n",
    "# C4_u = df_users_clustered[df_users_clustered['Cluster'] == 4]\n",
    "\n",
    "C1_s = df_clustered[df_clustered['Cluster'] == 1]\n",
    "C2_s = df_clustered[df_clustered['Cluster'] == 2]\n",
    "C3_s = df_clustered[df_clustered['Cluster'] == 3]\n",
    "C4_s = df_clustered[df_clustered['Cluster'] == 4]"
   ]
  },
  {
   "cell_type": "code",
   "execution_count": null,
   "metadata": {
    "collapsed": false
   },
   "outputs": [],
   "source": [
    "# User role distributions per cluster\n",
    "print('Cluster 1')\n",
    "print(C1_u.UserRole.value_counts(dropna=False))\n",
    "print('\\n')\n",
    "print('Cluster 2')\n",
    "print(C2_u.UserRole.value_counts(dropna=False))\n",
    "print('\\n')\n",
    "print('Cluster 3')\n",
    "print(C3_u.UserRole.value_counts(dropna=False))\n",
    "print('\\n')\n",
    "print('Cluster 4')\n",
    "print(C4_u.UserRole.value_counts(dropna=False))\n",
    "\n",
    "grp = df_users_clustered.groupby('Cluster')['UserRole'].count()\n",
    "grp.plot(kind='bar').set_ylabel('Number of Users');"
   ]
  },
  {
   "cell_type": "code",
   "execution_count": null,
   "metadata": {
    "collapsed": false
   },
   "outputs": [],
   "source": [
    "print(df_users_clustered.KM_Cluster.value_counts(dropna=False))\n",
    "grp = df_users_clustered.groupby('KM_Cluster')['NumSims'].mean()\n",
    "grp.plot(kind='bar').set_ylabel('Number of Simulations');"
   ]
  },
  {
   "cell_type": "code",
   "execution_count": 9,
   "metadata": {
    "collapsed": false
   },
   "outputs": [
    {
     "data": {
      "image/png": "[encoded data removed]",
      "text/plain": [
       "<matplotlib.figure.Figure at 0x149a79748>"
      ]
     },
     "metadata": {},
     "output_type": "display_data"
    }
   ],
   "source": [
    "fig = plt.figure(figsize=(8,6))\n",
    "ax = fig.add_subplot(111)\n",
    "\n",
    "date_count = df_clustered.groupby(df_clustered['Created'].dt.date)['User'].count()\n",
    "ax.plot(date_count)\n",
    "ax.set_ylabel('Number of Simulations')\n",
    "plt.show()"
   ]
  },
  {
   "cell_type": "code",
   "execution_count": 10,
   "metadata": {
    "collapsed": false
   },
   "outputs": [
    {
     "data": {
      "text/plain": [
       "794253"
      ]
     },
     "execution_count": 10,
     "metadata": {},
     "output_type": "execute_result"
    }
   ],
   "source": [
    "sum(date_count)"
   ]
  },
  {
   "cell_type": "code",
   "execution_count": null,
   "metadata": {
    "collapsed": false
   },
   "outputs": [],
   "source": [
    "# categorical vs categorical vs numeric\n",
    "agg = df_users_clustered.groupby(['KM_Cluster', 'UserRole'])['NumSims'].mean()\n",
    "print(agg)\n",
    "agg = agg.unstack(level='UserRole')\n",
    "print(agg)\n",
    "fig, ax = plt.subplots(1, 1, figsize=(10, 4))\n",
    "agg.plot(kind='bar', ax=ax).set_ylabel('Average # Simulations')"
   ]
  },
  {
   "cell_type": "code",
   "execution_count": null,
   "metadata": {
    "collapsed": false
   },
   "outputs": [],
   "source": [
    "# Scatter plot by category\n",
    "clusters = df_users_clustered['KM_Cluster'].unique()\n",
    "for clust in clusters:\n",
    "    plt.plot(df_users_clustered.loc[df_users_clustered.KM_Cluster==clust, 'NumChangedInputs'], \n",
    "             df_users_clustered.loc[df_users_clustered.KM_Cluster==clust, 'NumSims'], \n",
    "             linestyle='',\n",
    "             marker='o',\n",
    "             alpha=.7, label='Cluster={}'.format(clust))\n",
    "plt.xlabel('Number of User Changed Inputs')\n",
    "plt.ylabel('Number of Simulations')\n",
    "plt.legend(numpoints=1);"
   ]
  },
  {
   "cell_type": "code",
   "execution_count": null,
   "metadata": {
    "collapsed": false
   },
   "outputs": [],
   "source": [
    "# Heat-map\n",
    "agg = df_users_clustered.groupby(['KM_Cluster', 'UserRole'])['NumSims'].mean()\n",
    "ax = sns.heatmap(agg.unstack(level='UserRole'), annot=True)\n",
    "ax.set_title('Average number of simulations by cluster and user role')"
   ]
  },
  {
   "cell_type": "code",
   "execution_count": null,
   "metadata": {
    "collapsed": false
   },
   "outputs": [],
   "source": [
    "# Heat-map\n",
    "agg = df_clustered.groupby(['KM_Cluster', 'UserRole'])['UserRole'].count()\n",
    "ax = sns.heatmap(agg.unstack(level='UserRole'), annot=True)\n",
    "ax.set_title('Average number of simulations by cluster and user role')"
   ]
  },
  {
   "cell_type": "code",
   "execution_count": null,
   "metadata": {
    "collapsed": false
   },
   "outputs": [],
   "source": [
    "df_usa = df_users_clustered[df_users_clustered['Country'] == 'US']\n",
    "df_usa.head()\n",
    "\n",
    "grp = df_usa.groupby('KM_Cluster')['NumSims'].mean()\n",
    "grp.plot(kind='bar').set_ylabel('Number of Simulations');"
   ]
  },
  {
   "cell_type": "code",
   "execution_count": null,
   "metadata": {
    "collapsed": false
   },
   "outputs": [],
   "source": [
    "# categorical vs categorical vs numeric\n",
    "agg = df_users_clustered.groupby(['KM_Cluster', 'OrganizationType'])['OrganizationType'].count()\n",
    "print(agg)\n",
    "agg = agg.unstack(level='OrganizationType')\n",
    "print(agg)\n",
    "fig, ax = plt.subplots(1, 1, figsize=(10, 4))\n",
    "agg.plot(kind='bar', ax=ax).set_ylabel('Number of Organizations (by type)')"
   ]
  },
  {
   "cell_type": "code",
   "execution_count": null,
   "metadata": {
    "collapsed": false
   },
   "outputs": [],
   "source": [
    "grp = df_users_clustered.groupby('KM_Cluster')['ImportedSolar'].mean()\n",
    "grp.plot(kind='bar').set_ylabel('Average # of users importing solar');"
   ]
  },
  {
   "cell_type": "code",
   "execution_count": null,
   "metadata": {
    "collapsed": false
   },
   "outputs": [],
   "source": [
    "grp = df_users_clustered.groupby('KM_Cluster')['ImportedWind'].mean()\n",
    "grp.plot(kind='bar').set_ylabel('Average # of users importing wind');"
   ]
  },
  {
   "cell_type": "code",
   "execution_count": null,
   "metadata": {
    "collapsed": false
   },
   "outputs": [],
   "source": [
    "df_users_clustered.info()"
   ]
  },
  {
   "cell_type": "code",
   "execution_count": null,
   "metadata": {
    "collapsed": false
   },
   "outputs": [],
   "source": [
    "grp = df_users_clustered.groupby('KM_Cluster')['GenCostMultiLines'].mean()\n",
    "grp.plot(kind='bar').set_ylabel('Average # of users with multiple lines in generator cost table');"
   ]
  },
  {
   "cell_type": "code",
   "execution_count": null,
   "metadata": {
    "collapsed": false
   },
   "outputs": [],
   "source": [
    "grp = df_users_clustered.groupby('KM_Cluster')['WindCostMultiLines'].mean()\n",
    "grp.plot(kind='bar').set_ylabel('Average # of users with multiple lines in wind cost table');"
   ]
  },
  {
   "cell_type": "code",
   "execution_count": null,
   "metadata": {
    "collapsed": false
   },
   "outputs": [],
   "source": [
    "grp = df_users_clustered.groupby('KM_Cluster')['BatCostMultiLines'].mean()\n",
    "grp.plot(kind='bar').set_ylabel('Average # of users with multiple lines in battery cost table');"
   ]
  },
  {
   "cell_type": "code",
   "execution_count": null,
   "metadata": {
    "collapsed": false
   },
   "outputs": [],
   "source": [
    "grp = df_users_clustered.groupby('KM_Cluster')['PvCostMultiLines'].mean()\n",
    "grp.plot(kind='bar').set_ylabel('Average # of users with multiple lines in PV cost table');"
   ]
  },
  {
   "cell_type": "code",
   "execution_count": null,
   "metadata": {
    "collapsed": false
   },
   "outputs": [],
   "source": [
    "grp = df_users_clustered.groupby('KM_Cluster')['ConCostMultiLines'].mean()\n",
    "grp.plot(kind='bar').set_ylabel('Average # of users with multiple lines in converter cost table');"
   ]
  },
  {
   "cell_type": "code",
   "execution_count": null,
   "metadata": {
    "collapsed": false
   },
   "outputs": [],
   "source": [
    "grp = df_users_clustered.groupby('KM_Cluster')['ElectricNotDefault'].mean()\n",
    "grp.plot(kind='bar').set_ylabel('Average # of users not using default electric peak');"
   ]
  },
  {
   "cell_type": "code",
   "execution_count": null,
   "metadata": {
    "collapsed": false
   },
   "outputs": [],
   "source": [
    "grp = df_users_clustered.groupby('KM_Cluster')['GeneratorNotDefault'].mean()\n",
    "grp.plot(kind='bar').set_ylabel('Average # of users not using default generator');"
   ]
  },
  {
   "cell_type": "code",
   "execution_count": null,
   "metadata": {
    "collapsed": false
   },
   "outputs": [],
   "source": [
    "grp = df_users_clustered.groupby('KM_Cluster')['GenCapCost'].mean()\n",
    "grp.plot(kind='bar').set_ylabel('Average # of users providing generator capital cost');"
   ]
  },
  {
   "cell_type": "code",
   "execution_count": null,
   "metadata": {
    "collapsed": false
   },
   "outputs": [],
   "source": [
    "grp = df_users_clustered.groupby('KM_Cluster')['BatCapCost'].mean()\n",
    "grp.plot(kind='bar').set_ylabel('Average # of users providing battery capital cost');"
   ]
  },
  {
   "cell_type": "code",
   "execution_count": null,
   "metadata": {
    "collapsed": false
   },
   "outputs": [],
   "source": [
    "grp = df_users_clustered.groupby('KM_Cluster')['WindCapCost'].mean()\n",
    "grp.plot(kind='bar').set_ylabel('Average # of users providing turbine capital cost');"
   ]
  },
  {
   "cell_type": "code",
   "execution_count": null,
   "metadata": {
    "collapsed": false
   },
   "outputs": [],
   "source": [
    "grp = df_users_clustered.groupby('KM_Cluster')['PvCapCost'].mean()\n",
    "grp.plot(kind='bar').set_ylabel('Average # of users providing PV capital cost');"
   ]
  },
  {
   "cell_type": "code",
   "execution_count": null,
   "metadata": {
    "collapsed": false
   },
   "outputs": [],
   "source": [
    "# np.round(cluster3[['NumSims', 'DaysSinceFirst']].describe(), 2).T[['count','mean', 'std', 'min', 'max']]"
   ]
  },
  {
   "cell_type": "code",
   "execution_count": null,
   "metadata": {
    "collapsed": false
   },
   "outputs": [],
   "source": [
    "sns.stripplot(x='KM_Cluster', y='NumSims', data=df_users_clustered, jitter=True);"
   ]
  },
  {
   "cell_type": "code",
   "execution_count": null,
   "metadata": {
    "collapsed": false
   },
   "outputs": [],
   "source": [
    "sns.barplot(x='UserRole', y='NumChangedInputs', hue='KM_Cluster', data=df_users_clustered);"
   ]
  },
  {
   "cell_type": "code",
   "execution_count": null,
   "metadata": {
    "collapsed": false
   },
   "outputs": [],
   "source": [
    "sns.swarmplot(x='KM_Cluster', y='NumSims', data=df_users_clustered);"
   ]
  },
  {
   "cell_type": "code",
   "execution_count": null,
   "metadata": {
    "collapsed": false
   },
   "outputs": [],
   "source": [
    "sns.boxplot(x='KM_Cluster', y='NumSims', hue='UserRole', data=df_users_clustered);"
   ]
  },
  {
   "cell_type": "code",
   "execution_count": null,
   "metadata": {
    "collapsed": false
   },
   "outputs": [],
   "source": [
    "sns.countplot(x='KM_Cluster', hue='UserRole', data=df_users_clustered, palette=\"Greens_d\");"
   ]
  },
  {
   "cell_type": "code",
   "execution_count": null,
   "metadata": {
    "collapsed": false
   },
   "outputs": [],
   "source": [
    "df_users_clustered['NumSims'].describe()"
   ]
  },
  {
   "cell_type": "code",
   "execution_count": null,
   "metadata": {
    "collapsed": false
   },
   "outputs": [],
   "source": [
    "sns.pointplot(x='KM_Cluster', y='NumSims', hue='UserRole', data=df_users_clustered_clean);"
   ]
  },
  {
   "cell_type": "code",
   "execution_count": null,
   "metadata": {
    "collapsed": false
   },
   "outputs": [],
   "source": [
    "f, ax = plt.subplots(figsize=(7, 3))\n",
    "sns.countplot(y='KM_Cluster', data=df_users_clustered, color=\"c\");"
   ]
  },
  {
   "cell_type": "code",
   "execution_count": null,
   "metadata": {
    "collapsed": false
   },
   "outputs": [],
   "source": [
    "print('Cluster 1')\n",
    "print(C1_s.MultiGenSearch.value_counts(dropna=False))\n",
    "print('\\n')\n",
    "print('Cluster 2')\n",
    "print(C2_s.MultiGenSearch.value_counts(dropna=False))\n",
    "print('\\n')\n",
    "print('Cluster 3')\n",
    "print(C3_s.MultiGenSearch.value_counts(dropna=False))\n",
    "print('\\n')\n",
    "print('Cluster 4')\n",
    "print(C4_s.MultiGenSearch.value_counts(dropna=False))\n",
    "print('\\n')"
   ]
  },
  {
   "cell_type": "code",
   "execution_count": null,
   "metadata": {
    "collapsed": false
   },
   "outputs": [],
   "source": [
    "grps = C1_s.MultiGenSearch.value_counts(dropna=False)\n",
    "pct = [x / float(sum(grps)) for x in grps]\n",
    "\n",
    "s1 = pd.Series(grps.values, index=grps.index, name='count')\n",
    "s2 = pd.Series(pct, index=grps.index, name='%total')\n",
    "s2 = s2.apply(lambda x: round(x*100, 2))\n",
    "df_grp = pd.concat([s1, s2], axis=1)\n",
    "df_grp"
   ]
  },
  {
   "cell_type": "code",
   "execution_count": null,
   "metadata": {
    "collapsed": false
   },
   "outputs": [],
   "source": [
    "def by_cluster(col):\n",
    "    frames = []\n",
    "    clusters = [C1_s, C2_s, C3_s, C4_s]\n",
    "    for idx, cluster in enumerate(clusters):\n",
    "        grps = cluster[col].value_counts(dropna=False)\n",
    "        pct = [x / float(sum(grps)) for x in grps]\n",
    "\n",
    "        s1 = pd.Series(grps.values, index=grps.index, name='Count')\n",
    "        s2 = pd.Series(pct, index=grps.index, name='Total%')\n",
    "        s2 = s2.apply(lambda x: round(x*100, 2))\n",
    "        \n",
    "        df_grp = pd.concat([s1, s2], axis=1)\n",
    "        df_grp =df_grp.reindex(['True', 'False', 'NA'])\n",
    "        frames.append(df_grp)\n",
    "        \n",
    "    df_combo = pd.concat(frames, axis=1)\n",
    "    vals = df_combo.values\n",
    "\n",
    "    l1 = ['Cluster 1', 'Cluster 1', 'Cluster 2', 'Cluster 2', 'Cluster 3', 'Cluster 3', 'Cluster 4', 'Cluster 4']\n",
    "    l2 = ['Count', 'Total%', 'Count', 'Total%', 'Count', 'Total%', 'Count', 'Total%']\n",
    "\n",
    "    tuples = list(zip(l1, l2))\n",
    "    index = pd.MultiIndex.from_tuples(tuples, names=[col, ''])\n",
    "\n",
    "    dff = pd.DataFrame(vals, index=['True', 'False', 'NA'], columns=index)\n",
    "    return dff\n",
    "\n",
    "dff = by_cluster('MultiBatSearch')\n",
    "dff"
   ]
  },
  {
   "cell_type": "code",
   "execution_count": null,
   "metadata": {
    "collapsed": false
   },
   "outputs": [],
   "source": [
    "df_grp.sort_index(ascending=False)\n",
    "df_grp.reindex(['NA', 'False', 'True'])"
   ]
  },
  {
   "cell_type": "code",
   "execution_count": null,
   "metadata": {
    "collapsed": false
   },
   "outputs": [],
   "source": [
    "def user_counts(df):\n",
    "    grps = df.UserRole.value_counts(dropna=False)\n",
    "    pct = [x / float(sum(grps)) for x in grps]\n",
    "    s1 = pd.Series(grps.values, index=grps.index, name='Count')\n",
    "    s2 = pd.Series(pct, index=grps.index, name='Total%')\n",
    "    s2 = s2.apply(lambda x: round(x*100, 2))\n",
    "    df_grp = pd.concat([s1, s2], axis=1)\n",
    "    return df_grp\n",
    "\n",
    "print(user_counts(C2_s))"
   ]
  },
  {
   "cell_type": "code",
   "execution_count": null,
   "metadata": {
    "collapsed": false
   },
   "outputs": [],
   "source": [
    "def org_counts(df):\n",
    "    grps = df.OrganizationType.value_counts(dropna=False)\n",
    "    pct = [x / float(sum(grps)) for x in grps]\n",
    "\n",
    "    s1 = pd.Series(grps.values, index=grps.index, name='Count')\n",
    "    s2 = pd.Series(pct, index=grps.index, name='Total%')\n",
    "    s2 = s2.apply(lambda x: round(x*100, 2))\n",
    "    df_grp = pd.concat([s1, s2], axis=1)\n",
    "    return df_grp\n",
    "\n",
    "print(org_counts(C2_s))"
   ]
  },
  {
   "cell_type": "code",
   "execution_count": null,
   "metadata": {
    "collapsed": false
   },
   "outputs": [],
   "source": [
    "df_clustered.describe().loc[['mean', 'std']]"
   ]
  },
  {
   "cell_type": "code",
   "execution_count": null,
   "metadata": {
    "collapsed": false
   },
   "outputs": [],
   "source": [
    "df_clustered.Cluster.value_counts(dropna=False)"
   ]
  },
  {
   "cell_type": "code",
   "execution_count": null,
   "metadata": {
    "collapsed": true
   },
   "outputs": [],
   "source": [
    "C1 = df_clustered[df_clustered['Cluster'] == 1]\n",
    "C2 = df_clustered[df_clustered['Cluster'] == 2]\n",
    "C3 = df_clustered[df_clustered['Cluster'] == 3]\n",
    "C4 = df_clustered[df_clustered['Cluster'] == 4]"
   ]
  },
  {
   "cell_type": "code",
   "execution_count": 12,
   "metadata": {
    "collapsed": false
   },
   "outputs": [],
   "source": [
    "pt = pd.pivot_table(df_clustered, values=['Created'], index=['User'], columns=['Cluster'], aggfunc='count', fill_value=0)"
   ]
  },
  {
   "cell_type": "code",
   "execution_count": 13,
   "metadata": {
    "collapsed": false
   },
   "outputs": [
    {
     "data": {
      "text/plain": [
       "3831"
      ]
     },
     "execution_count": 13,
     "metadata": {},
     "output_type": "execute_result"
    }
   ],
   "source": [
    "cluster_df = pd.DataFrame(pt.iloc[:, 0].index)\n",
    "cluster_df['Cluster 1'] = pt.iloc[:, 0].values\n",
    "cluster_df['Cluster 2'] = pt.iloc[:, 1].values\n",
    "cluster_df['Cluster 3'] = pt.iloc[:, 2].values\n",
    "cluster_df['Cluster 4'] = pt.iloc[:, 3].values\n",
    "cluster_df['Cluster 1'].max()"
   ]
  },
  {
   "cell_type": "code",
   "execution_count": 14,
   "metadata": {
    "collapsed": false
   },
   "outputs": [
    {
     "data": {
      "text/html": [
       "<div>\n",
       "<table border=\"1\" class=\"dataframe\">\n",
       "  <thead>\n",
       "    <tr style=\"text-align: right;\">\n",
       "      <th></th>\n",
       "      <th>Cluster 1</th>\n",
       "      <th>Cluster 2</th>\n",
       "      <th>Cluster 3</th>\n",
       "      <th>Cluster 4</th>\n",
       "    </tr>\n",
       "  </thead>\n",
       "  <tbody>\n",
       "    <tr>\n",
       "      <th>count</th>\n",
       "      <td>18769.00</td>\n",
       "      <td>18769.00</td>\n",
       "      <td>18769.00</td>\n",
       "      <td>18769.00</td>\n",
       "    </tr>\n",
       "    <tr>\n",
       "      <th>mean</th>\n",
       "      <td>14.61</td>\n",
       "      <td>5.42</td>\n",
       "      <td>11.23</td>\n",
       "      <td>11.06</td>\n",
       "    </tr>\n",
       "    <tr>\n",
       "      <th>std</th>\n",
       "      <td>73.40</td>\n",
       "      <td>35.28</td>\n",
       "      <td>65.24</td>\n",
       "      <td>50.44</td>\n",
       "    </tr>\n",
       "    <tr>\n",
       "      <th>min</th>\n",
       "      <td>0.00</td>\n",
       "      <td>0.00</td>\n",
       "      <td>0.00</td>\n",
       "      <td>0.00</td>\n",
       "    </tr>\n",
       "    <tr>\n",
       "      <th>25%</th>\n",
       "      <td>0.00</td>\n",
       "      <td>0.00</td>\n",
       "      <td>0.00</td>\n",
       "      <td>0.00</td>\n",
       "    </tr>\n",
       "    <tr>\n",
       "      <th>50%</th>\n",
       "      <td>1.00</td>\n",
       "      <td>0.00</td>\n",
       "      <td>0.00</td>\n",
       "      <td>0.00</td>\n",
       "    </tr>\n",
       "    <tr>\n",
       "      <th>75%</th>\n",
       "      <td>7.00</td>\n",
       "      <td>1.00</td>\n",
       "      <td>3.00</td>\n",
       "      <td>4.00</td>\n",
       "    </tr>\n",
       "    <tr>\n",
       "      <th>max</th>\n",
       "      <td>3831.00</td>\n",
       "      <td>1512.00</td>\n",
       "      <td>3621.00</td>\n",
       "      <td>2276.00</td>\n",
       "    </tr>\n",
       "  </tbody>\n",
       "</table>\n",
       "</div>"
      ],
      "text/plain": [
       "       Cluster 1  Cluster 2  Cluster 3  Cluster 4\n",
       "count   18769.00   18769.00   18769.00   18769.00\n",
       "mean       14.61       5.42      11.23      11.06\n",
       "std        73.40      35.28      65.24      50.44\n",
       "min         0.00       0.00       0.00       0.00\n",
       "25%         0.00       0.00       0.00       0.00\n",
       "50%         1.00       0.00       0.00       0.00\n",
       "75%         7.00       1.00       3.00       4.00\n",
       "max      3831.00    1512.00    3621.00    2276.00"
      ]
     },
     "execution_count": 14,
     "metadata": {},
     "output_type": "execute_result"
    }
   ],
   "source": [
    "output = round(cluster_df.describe(), 2)\n",
    "output"
   ]
  },
  {
   "cell_type": "code",
   "execution_count": null,
   "metadata": {
    "collapsed": true
   },
   "outputs": [],
   "source": []
  }
 ],
 "metadata": {
  "kernelspec": {
   "display_name": "Python 3",
   "language": "python",
   "name": "python3"
  },
  "language_info": {
   "codemirror_mode": {
    "name": "ipython",
    "version": 3
   },
   "file_extension": ".py",
   "mimetype": "text/x-python",
   "name": "python",
   "nbconvert_exporter": "python",
   "pygments_lexer": "ipython3",
   "version": "3.6.0"
  }
 },
 "nbformat": 4,
 "nbformat_minor": 2
}
